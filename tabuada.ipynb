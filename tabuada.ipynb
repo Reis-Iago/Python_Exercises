{
  "nbformat": 4,
  "nbformat_minor": 0,
  "metadata": {
    "colab": {
      "name": "tabuada.ipynb",
      "provenance": [],
      "authorship_tag": "ABX9TyP8efFmtxGE009zP15nxShW",
      "include_colab_link": true
    },
    "kernelspec": {
      "name": "python3",
      "display_name": "Python 3"
    },
    "language_info": {
      "name": "python"
    }
  },
  "cells": [
    {
      "cell_type": "markdown",
      "metadata": {
        "id": "view-in-github",
        "colab_type": "text"
      },
      "source": [
        "<a href=\"https://colab.research.google.com/github/Reis-Iago/Python_Exercises/blob/main/tabuada.ipynb\" target=\"_parent\"><img src=\"https://colab.research.google.com/assets/colab-badge.svg\" alt=\"Open In Colab\"/></a>"
      ]
    },
    {
      "cell_type": "code",
      "execution_count": 12,
      "metadata": {
        "colab": {
          "base_uri": "https://localhost:8080/"
        },
        "id": "bDK2bD5iudN3",
        "outputId": "96c91beb-7759-4cdb-f625-9c0ad9e63261"
      },
      "outputs": [
        {
          "output_type": "stream",
          "name": "stdout",
          "text": [
            "Digite o número que deseja conferir a tabuada 6\n",
            "6 x 0 = 0 \n",
            "6 x 1 = 6 \n",
            "6 x 2 = 12 \n",
            "6 x 3 = 18 \n",
            "6 x 4 = 24 \n",
            "6 x 5 = 30 \n",
            "6 x 6 = 36 \n",
            "6 x 7 = 42 \n",
            "6 x 8 = 48 \n",
            "6 x 9 = 54 \n",
            "6 x 10 = 60 \n"
          ]
        }
      ],
      "source": [
        "num = int(input(\"Digite o número que deseja conferir a tabuada \"))\n",
        "contador = (range(0,10+1))\n",
        "resultado = 0\n",
        "for i in contador:\n",
        "  resultado = num * i\n",
        "  print(\"{} x {} = {} \".format(num,i,resultado))\n"
      ]
    }
  ]
}