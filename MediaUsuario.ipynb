{
  "nbformat": 4,
  "nbformat_minor": 0,
  "metadata": {
    "colab": {
      "name": "MediaUsuario.ipynb",
      "provenance": [],
      "authorship_tag": "ABX9TyNorNcn3eM8PcIWo6L0mqKZ",
      "include_colab_link": true
    },
    "kernelspec": {
      "name": "python3",
      "display_name": "Python 3"
    },
    "language_info": {
      "name": "python"
    }
  },
  "cells": [
    {
      "cell_type": "markdown",
      "metadata": {
        "id": "view-in-github",
        "colab_type": "text"
      },
      "source": [
        "<a href=\"https://colab.research.google.com/github/Reis-Iago/Python_Exercises/blob/main/MediaUsuario.ipynb\" target=\"_parent\"><img src=\"https://colab.research.google.com/assets/colab-badge.svg\" alt=\"Open In Colab\"/></a>"
      ]
    },
    {
      "cell_type": "code",
      "execution_count": 23,
      "metadata": {
        "colab": {
          "base_uri": "https://localhost:8080/"
        },
        "id": "K4x4xBAYKgr2",
        "outputId": "8942408e-f12c-437f-d9b0-b1a54b26e083"
      },
      "outputs": [
        {
          "output_type": "stream",
          "name": "stdout",
          "text": [
            "Digite a quantidade de numeros que deseja realizar a media 5\n",
            "Digite o número 1: 6\n",
            "Digite o número 2: 6\n",
            "Digite o número 3: 6\n",
            "Digite o número 4: 6\n",
            "Digite o número 5: 6\n",
            "A media dos numeros digitados é:  6.0\n"
          ]
        }
      ],
      "source": [
        "media_usuario = int(input(\"Digite a quantidade de numeros que deseja realizar a media \"))\n",
        "contador = range(1,media_usuario+1)\n",
        "soma = 0\n",
        "for i in contador:\n",
        "  n = float(input(\"Digite o número {}: \".format(i)))\n",
        "  soma += n\n",
        "print(\"A media dos numeros digitados é: \", soma/i)  "
      ]
    }
  ]
}