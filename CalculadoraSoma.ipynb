{
  "nbformat": 4,
  "nbformat_minor": 0,
  "metadata": {
    "colab": {
      "name": "CalculadoraSoma.ipynb",
      "provenance": [],
      "authorship_tag": "ABX9TyOj5PN8G3ZHarDZQXwgwEKP",
      "include_colab_link": true
    },
    "kernelspec": {
      "name": "python3",
      "display_name": "Python 3"
    },
    "language_info": {
      "name": "python"
    }
  },
  "cells": [
    {
      "cell_type": "markdown",
      "metadata": {
        "id": "view-in-github",
        "colab_type": "text"
      },
      "source": [
        "<a href=\"https://colab.research.google.com/github/Reis-Iago/Python_Exercises/blob/main/CalculadoraSoma.ipynb\" target=\"_parent\"><img src=\"https://colab.research.google.com/assets/colab-badge.svg\" alt=\"Open In Colab\"/></a>"
      ]
    },
    {
      "cell_type": "code",
      "execution_count": 23,
      "metadata": {
        "colab": {
          "base_uri": "https://localhost:8080/"
        },
        "id": "PHXwTiL64TUf",
        "outputId": "4d864fc4-713f-4292-d06a-775db88eb24b"
      },
      "outputs": [
        {
          "output_type": "stream",
          "name": "stdout",
          "text": [
            "digite um número: 6\n",
            "6.0\n",
            "digite um número: 5\n",
            "11.0\n",
            "digite um número: 3\n",
            "14.0\n",
            "digite um número: 2\n",
            "16.0\n",
            "digite um número: 1\n",
            "17.0\n",
            "O resultado final é: 17.0\n"
          ]
        }
      ],
      "source": [
        "contador = range(1,6)\n",
        "soma = 0\n",
        "for i in contador:\n",
        "  num = float(input(\"digite um número: \")) \n",
        "  soma = soma + num\n",
        "  print(soma)\n",
        "print(\"O resultado final é: {}\".format(soma5))  "
      ]
    }
  ]
}