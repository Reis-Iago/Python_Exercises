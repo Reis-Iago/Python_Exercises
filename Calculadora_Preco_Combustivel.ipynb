{
  "nbformat": 4,
  "nbformat_minor": 0,
  "metadata": {
    "colab": {
      "name": "Calculadora_Preco_Combustivel.ipynb",
      "provenance": [],
      "authorship_tag": "ABX9TyPXLHH/EXurknjv6mrN6Ks1",
      "include_colab_link": true
    },
    "kernelspec": {
      "name": "python3",
      "display_name": "Python 3"
    },
    "language_info": {
      "name": "python"
    }
  },
  "cells": [
    {
      "cell_type": "markdown",
      "metadata": {
        "id": "view-in-github",
        "colab_type": "text"
      },
      "source": [
        "<a href=\"https://colab.research.google.com/github/Reis-Iago/Python_Exercises/blob/main/Calculadora_Preco_Combustivel.ipynb\" target=\"_parent\"><img src=\"https://colab.research.google.com/assets/colab-badge.svg\" alt=\"Open In Colab\"/></a>"
      ]
    },
    {
      "cell_type": "markdown",
      "source": [
        "Esta é uma calculafora básica que retorna o preço e o consumo de combustível de acordo com o rendimento do veículo e a distância percorrida."
      ],
      "metadata": {
        "id": "HHqG4BOFE44h"
      }
    },
    {
      "cell_type": "code",
      "execution_count": 6,
      "metadata": {
        "colab": {
          "base_uri": "https://localhost:8080/"
        },
        "id": "ugrGuM7eDkws",
        "outputId": "a854e07a-0319-4606-9b2d-cd5e2fd6c20d"
      },
      "outputs": [
        {
          "output_type": "stream",
          "name": "stdout",
          "text": [
            "Informe o rendimento do carro em km/l\n",
            "8\n",
            "Informe qual a distancia a ser percorrida\n",
            "110\n",
            "Agora informe o preço do litro do combustível\n",
            "6.9\n",
            "Foram consumidos 13.75 litros de combustível e gasto 94.88 reais\n"
          ]
        },
        {
          "output_type": "execute_result",
          "data": {
            "text/plain": [
              "2"
            ]
          },
          "metadata": {},
          "execution_count": 6
        }
      ],
      "source": [
        "print(\"Informe o rendimento do carro em km/l\")\n",
        "rendimento_combustivel = float(input())\n",
        "print(\"Informe qual a distancia a ser percorrida\")\n",
        "distancia_percorrida = float(input())\n",
        "print(\"Agora informe o preço do litro do combustível\")\n",
        "preco_combustivel = float(input())\n",
        "print(\"Foram consumidos\", distancia_percorrida / rendimento_combustivel , \"litros de combustível e gasto\", round((distancia_percorrida * preco_combustivel / rendimento_combustivel),2)1, \"reais\")\n",
        "2\n"
      ]
    },
    {
      "cell_type": "code",
      "source": [
        ""
      ],
      "metadata": {
        "id": "HUf0WDB-ETkD"
      },
      "execution_count": null,
      "outputs": []
    }
  ]
}