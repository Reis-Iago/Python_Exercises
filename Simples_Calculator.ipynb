{
  "nbformat": 4,
  "nbformat_minor": 0,
  "metadata": {
    "colab": {
      "name": "Exercicio1.ipynb",
      "provenance": [],
      "authorship_tag": "ABX9TyPpxdCqT4GtRllt+5nheVmL",
      "include_colab_link": true
    },
    "kernelspec": {
      "name": "python3",
      "display_name": "Python 3"
    },
    "language_info": {
      "name": "python"
    }
  },
  "cells": [
    {
      "cell_type": "markdown",
      "metadata": {
        "id": "view-in-github",
        "colab_type": "text"
      },
      "source": [
        "<a href=\"https://colab.research.google.com/github/Reis-Iago/Python_Exercises/blob/main/Simples_Calculator.ipynb\" target=\"_parent\"><img src=\"https://colab.research.google.com/assets/colab-badge.svg\" alt=\"Open In Colab\"/></a>"
      ]
    },
    {
      "cell_type": "code",
      "execution_count": null,
      "metadata": {
        "colab": {
          "base_uri": "https://localhost:8080/"
        },
        "id": "mznom3dA-w2v",
        "outputId": "68f22283-7e2d-42d9-f6de-8d714aa6e02c"
      },
      "outputs": [
        {
          "output_type": "stream",
          "name": "stdout",
          "text": [
            "Para calcular, digite o primeiro número:\n",
            "6\n",
            "Agora digite o segundo número:\n",
            "11\n",
            "A soma dos números é: 17.0\n",
            "A subtração dos números é: -5.0\n",
            "A multiplicação dos números é: 66.0\n",
            "A divisão dos números é: 0.5454545454545454\n",
            "E o resto da divisão é: 6.0\n"
          ]
        }
      ],
      "source": [
        "print(\"Para calcular, digite o primeiro número:\")\n",
        "first_number = float(input())\n",
        "print(\"Agora digite o segundo número:\")\n",
        "second_number = float(input())\n",
        "print(\"A soma dos números é:\", first_number + second_number)\n",
        "print(\"A subtração dos números é:\", first_number - second_number)\n",
        "print(\"A multiplicação dos números é:\", first_number * second_number)\n",
        "print(\"A divisão dos números é:\", first_number / second_number)\n",
        "print(\"E o resto da divisão é:\", first_number % second_number)"
      ]
    }
  ]
}