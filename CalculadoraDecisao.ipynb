{
  "nbformat": 4,
  "nbformat_minor": 0,
  "metadata": {
    "colab": {
      "name": "CalculadoraDecisao.ipynb",
      "provenance": [],
      "authorship_tag": "ABX9TyN/xNdNAvXoVRnBfNNaZDnX",
      "include_colab_link": true
    },
    "kernelspec": {
      "name": "python3",
      "display_name": "Python 3"
    },
    "language_info": {
      "name": "python"
    }
  },
  "cells": [
    {
      "cell_type": "markdown",
      "metadata": {
        "id": "view-in-github",
        "colab_type": "text"
      },
      "source": [
        "<a href=\"https://colab.research.google.com/github/Reis-Iago/Python_Exercises/blob/main/CalculadoraDecisao.ipynb\" target=\"_parent\"><img src=\"https://colab.research.google.com/assets/colab-badge.svg\" alt=\"Open In Colab\"/></a>"
      ]
    },
    {
      "cell_type": "code",
      "execution_count": 3,
      "metadata": {
        "colab": {
          "base_uri": "https://localhost:8080/"
        },
        "id": "geq-VhL6qpoc",
        "outputId": "14f82a38-0b6d-4ef2-ea18-967f5c6bf14b"
      },
      "outputs": [
        {
          "output_type": "stream",
          "name": "stdout",
          "text": [
            "Digite a operação desejada multiplicaçao\n",
            "Agora digite o primeiro número 2\n",
            "Digite o segundo número 5\n",
            "Resultado: 10.0\n"
          ]
        }
      ],
      "source": [
        "# Calculadora de 2 números tipo de operação definida pelo usuário \n",
        "# lista de operações: soma, subtração, multiplicação, divisão, potência\n",
        "\n",
        "decisao = input(\"Digite a operação desejada \")\n",
        "num1 = float(input(\"Agora digite o primeiro número \"))\n",
        "num2 = float(input(\"Digite o segundo número \"))\n",
        "resultado = 0\n",
        "if decisao == 'soma':\n",
        "  resultado = num1 + num2\n",
        "  print(\"Resultado: {}\".format(resultado))\n",
        "elif decisao == \"subtraçao\":\n",
        "  resultado = num1 - num2\n",
        "  print(\"Resultado: {}\".format(resultado))\n",
        "elif decisao == 'multiplicaçao':\n",
        "  resultado = num1 * num2\n",
        "  print(\"Resultado: {}\".format(resultado))\n",
        "elif decisao == 'divisao':\n",
        "  resultado = num1 / num2\n",
        "  print(\"Resultado: {}\".format(resultado))\n",
        "else:\n",
        "  resultado = num1 ** num2\n",
        "  print(\"Resultado: {}\".format(resultado))\n"
      ]
    }
  ]
}